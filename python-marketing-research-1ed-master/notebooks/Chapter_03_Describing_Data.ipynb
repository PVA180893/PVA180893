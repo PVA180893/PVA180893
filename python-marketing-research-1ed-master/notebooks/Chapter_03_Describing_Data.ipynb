{
 "cells": [
  {
   "cell_type": "markdown",
   "metadata": {
    "colab_type": "text",
    "id": "s9J4a8tGuPVv"
   },
   "source": [
    "## 3.1 Simulating Data"
   ]
  },
  {
   "cell_type": "code",
   "execution_count": null,
   "metadata": {
    "colab": {},
    "colab_type": "code",
    "id": "Pk5pLYZihVTf"
   },
   "outputs": [],
   "source": [
    "%config InlineBackend.figure_format = 'svg'\n",
    "import pandas as pd\n",
    "pd.set_option('display.max_rows', 500)\n",
    "pd.set_option('display.max_columns', 500)\n",
    "pd.set_option('display.width', 70)"
   ]
  },
  {
   "cell_type": "code",
   "execution_count": 2,
   "metadata": {
    "colab": {},
    "colab_type": "code",
    "id": "b3qeOrPUtqZL"
   },
   "outputs": [],
   "source": [
    "import pandas as pd\n",
    "store_sales = pd.read_csv('http://bit.ly/PMR-ch3')"
   ]
  },
  {
   "cell_type": "markdown",
   "metadata": {
    "colab_type": "text",
    "id": "A4bn-e8awKG5"
   },
   "source": [
    "### 3.1.1 Store Data: Setting the Structure"
   ]
  },
  {
   "cell_type": "code",
   "execution_count": 3,
   "metadata": {
    "colab": {},
    "colab_type": "code",
    "id": "gnxf6-dewAIC"
   },
   "outputs": [],
   "source": [
    "# import numpy and pandas\n",
    "import pandas as pd\n",
    "import numpy as np\n",
    "\n",
    "# Constants\n",
    "N_STORES = 20\n",
    "N_WEEKS = 104\n",
    "\n",
    "# create a data frame of initially missing values to hold the data\n",
    "columns = ('store_num', 'year', 'week', 'p1_sales', 'p2_sales',\n",
    "           'p1_price', 'p2_price', 'p1_promo', 'p2_promo', 'country')\n",
    "n_rows = N_STORES * N_WEEKS\n",
    "store_sales = pd.DataFrame(np.empty(shape=(n_rows, 10)),\n",
    "                           columns=columns)"
   ]
  },
  {
   "cell_type": "code",
   "execution_count": 4,
   "metadata": {
    "colab": {},
    "colab_type": "code",
    "id": "fshn34IZ6V_y"
   },
   "outputs": [
    {
     "data": {
      "text/plain": [
       "(2080, 10)"
      ]
     },
     "execution_count": 4,
     "metadata": {},
     "output_type": "execute_result"
    }
   ],
   "source": [
    "store_sales.shape"
   ]
  },
  {
   "cell_type": "code",
   "execution_count": 5,
   "metadata": {
    "colab": {},
    "colab_type": "code",
    "id": "zcM5xE4xSV_y"
   },
   "outputs": [
    {
     "data": {
      "text/html": [
       "<div>\n",
       "<style scoped>\n",
       "    .dataframe tbody tr th:only-of-type {\n",
       "        vertical-align: middle;\n",
       "    }\n",
       "\n",
       "    .dataframe tbody tr th {\n",
       "        vertical-align: top;\n",
       "    }\n",
       "\n",
       "    .dataframe thead th {\n",
       "        text-align: right;\n",
       "    }\n",
       "</style>\n",
       "<table border=\"1\" class=\"dataframe\">\n",
       "  <thead>\n",
       "    <tr style=\"text-align: right;\">\n",
       "      <th></th>\n",
       "      <th>store_num</th>\n",
       "      <th>year</th>\n",
       "      <th>week</th>\n",
       "      <th>p1_sales</th>\n",
       "      <th>p2_sales</th>\n",
       "      <th>p1_price</th>\n",
       "      <th>p2_price</th>\n",
       "      <th>p1_promo</th>\n",
       "      <th>p2_promo</th>\n",
       "      <th>country</th>\n",
       "    </tr>\n",
       "  </thead>\n",
       "  <tbody>\n",
       "    <tr>\n",
       "      <th>0</th>\n",
       "      <td>1.217616e-311</td>\n",
       "      <td>1.217661e-311</td>\n",
       "      <td>0.000000e+00</td>\n",
       "      <td>0.0</td>\n",
       "      <td>0.000000e+00</td>\n",
       "      <td>0.000000e+00</td>\n",
       "      <td>0.000000e+00</td>\n",
       "      <td>0.000000e+00</td>\n",
       "      <td>0.000000e+00</td>\n",
       "      <td>0.000000e+00</td>\n",
       "    </tr>\n",
       "    <tr>\n",
       "      <th>1</th>\n",
       "      <td>0.000000e+00</td>\n",
       "      <td>0.000000e+00</td>\n",
       "      <td>0.000000e+00</td>\n",
       "      <td>0.0</td>\n",
       "      <td>0.000000e+00</td>\n",
       "      <td>0.000000e+00</td>\n",
       "      <td>0.000000e+00</td>\n",
       "      <td>0.000000e+00</td>\n",
       "      <td>0.000000e+00</td>\n",
       "      <td>0.000000e+00</td>\n",
       "    </tr>\n",
       "    <tr>\n",
       "      <th>2</th>\n",
       "      <td>0.000000e+00</td>\n",
       "      <td>0.000000e+00</td>\n",
       "      <td>0.000000e+00</td>\n",
       "      <td>0.0</td>\n",
       "      <td>0.000000e+00</td>\n",
       "      <td>0.000000e+00</td>\n",
       "      <td>0.000000e+00</td>\n",
       "      <td>0.000000e+00</td>\n",
       "      <td>0.000000e+00</td>\n",
       "      <td>0.000000e+00</td>\n",
       "    </tr>\n",
       "    <tr>\n",
       "      <th>3</th>\n",
       "      <td>0.000000e+00</td>\n",
       "      <td>0.000000e+00</td>\n",
       "      <td>0.000000e+00</td>\n",
       "      <td>0.0</td>\n",
       "      <td>0.000000e+00</td>\n",
       "      <td>0.000000e+00</td>\n",
       "      <td>0.000000e+00</td>\n",
       "      <td>0.000000e+00</td>\n",
       "      <td>0.000000e+00</td>\n",
       "      <td>0.000000e+00</td>\n",
       "    </tr>\n",
       "    <tr>\n",
       "      <th>4</th>\n",
       "      <td>0.000000e+00</td>\n",
       "      <td>1.155212e-228</td>\n",
       "      <td>4.940656e-323</td>\n",
       "      <td>0.0</td>\n",
       "      <td>4.940656e-323</td>\n",
       "      <td>9.976594e-306</td>\n",
       "      <td>1.217616e-311</td>\n",
       "      <td>1.217661e-311</td>\n",
       "      <td>4.940656e-323</td>\n",
       "      <td>4.940656e-323</td>\n",
       "    </tr>\n",
       "  </tbody>\n",
       "</table>\n",
       "</div>"
      ],
      "text/plain": [
       "       store_num           year           week  p1_sales       p2_sales  \\\n",
       "0  1.217616e-311  1.217661e-311   0.000000e+00       0.0   0.000000e+00   \n",
       "1   0.000000e+00   0.000000e+00   0.000000e+00       0.0   0.000000e+00   \n",
       "2   0.000000e+00   0.000000e+00   0.000000e+00       0.0   0.000000e+00   \n",
       "3   0.000000e+00   0.000000e+00   0.000000e+00       0.0   0.000000e+00   \n",
       "4   0.000000e+00  1.155212e-228  4.940656e-323       0.0  4.940656e-323   \n",
       "\n",
       "        p1_price       p2_price       p1_promo       p2_promo        country  \n",
       "0   0.000000e+00   0.000000e+00   0.000000e+00   0.000000e+00   0.000000e+00  \n",
       "1   0.000000e+00   0.000000e+00   0.000000e+00   0.000000e+00   0.000000e+00  \n",
       "2   0.000000e+00   0.000000e+00   0.000000e+00   0.000000e+00   0.000000e+00  \n",
       "3   0.000000e+00   0.000000e+00   0.000000e+00   0.000000e+00   0.000000e+00  \n",
       "4  9.976594e-306  1.217616e-311  1.217661e-311  4.940656e-323  4.940656e-323  "
      ]
     },
     "execution_count": 5,
     "metadata": {},
     "output_type": "execute_result"
    }
   ],
   "source": [
    "store_sales.head()"
   ]
  },
  {
   "cell_type": "code",
   "execution_count": 6,
   "metadata": {
    "colab": {},
    "colab_type": "code",
    "id": "GWA3RteSywUk"
   },
   "outputs": [
    {
     "data": {
      "text/plain": [
       "[101,\n",
       " 102,\n",
       " 103,\n",
       " 104,\n",
       " 105,\n",
       " 106,\n",
       " 107,\n",
       " 108,\n",
       " 109,\n",
       " 110,\n",
       " 111,\n",
       " 112,\n",
       " 113,\n",
       " 114,\n",
       " 115,\n",
       " 116,\n",
       " 117,\n",
       " 118,\n",
       " 119,\n",
       " 120]"
      ]
     },
     "execution_count": 6,
     "metadata": {},
     "output_type": "execute_result"
    }
   ],
   "source": [
    "store_numbers = range(101, 101 + N_STORES)\n",
    "list(store_numbers)"
   ]
  },
  {
   "cell_type": "code",
   "execution_count": 7,
   "metadata": {
    "colab": {},
    "colab_type": "code",
    "id": "ykQiQXT-zCM4"
   },
   "outputs": [
    {
     "data": {
      "text/plain": [
       "{101: 'USA',\n",
       " 102: 'USA',\n",
       " 103: 'USA',\n",
       " 104: 'DEU',\n",
       " 105: 'DEU',\n",
       " 106: 'DEU',\n",
       " 107: 'DEU',\n",
       " 108: 'DEU',\n",
       " 109: 'GBR',\n",
       " 110: 'GBR',\n",
       " 111: 'GBR',\n",
       " 112: 'BRA',\n",
       " 113: 'BRA',\n",
       " 114: 'JPN',\n",
       " 115: 'JPN',\n",
       " 116: 'JPN',\n",
       " 117: 'JPN',\n",
       " 118: 'AUS',\n",
       " 119: 'CHN',\n",
       " 120: 'CHN'}"
      ]
     },
     "execution_count": 7,
     "metadata": {},
     "output_type": "execute_result"
    }
   ],
   "source": [
    "store_country = dict(zip(store_numbers,\n",
    "                         ['USA', 'USA', 'USA', 'DEU', 'DEU', 'DEU',\n",
    "                          'DEU', 'DEU', 'GBR', 'GBR', 'GBR', 'BRA',\n",
    "                          'BRA', 'JPN', 'JPN', 'JPN', 'JPN', 'AUS',\n",
    "                          'CHN', 'CHN']))\n",
    "store_country"
   ]
  },
  {
   "cell_type": "code",
   "execution_count": 8,
   "metadata": {
    "colab": {},
    "colab_type": "code",
    "id": "bFy1PliAz1Fj"
   },
   "outputs": [],
   "source": [
    "i = 0\n",
    "for store_num in store_numbers:\n",
    "  for year in [1, 2]:\n",
    "    for week in range(1, 53):\n",
    "      store_sales.loc[i, 'store_num'] = store_num\n",
    "      store_sales.loc[i, 'year'] = year\n",
    "      store_sales.loc[i, 'week'] = week\n",
    "      store_sales.loc[i, 'country'] = store_country[store_num]\n",
    "      i += 1"
   ]
  },
  {
   "cell_type": "code",
   "execution_count": 9,
   "metadata": {
    "colab": {},
    "colab_type": "code",
    "id": "T_rEOvjvz1CH"
   },
   "outputs": [
    {
     "data": {
      "text/html": [
       "<div>\n",
       "<style scoped>\n",
       "    .dataframe tbody tr th:only-of-type {\n",
       "        vertical-align: middle;\n",
       "    }\n",
       "\n",
       "    .dataframe tbody tr th {\n",
       "        vertical-align: top;\n",
       "    }\n",
       "\n",
       "    .dataframe thead th {\n",
       "        text-align: right;\n",
       "    }\n",
       "</style>\n",
       "<table border=\"1\" class=\"dataframe\">\n",
       "  <thead>\n",
       "    <tr style=\"text-align: right;\">\n",
       "      <th></th>\n",
       "      <th>store_num</th>\n",
       "      <th>year</th>\n",
       "      <th>week</th>\n",
       "      <th>p1_sales</th>\n",
       "      <th>p2_sales</th>\n",
       "      <th>p1_price</th>\n",
       "      <th>p2_price</th>\n",
       "      <th>p1_promo</th>\n",
       "      <th>p2_promo</th>\n",
       "      <th>country</th>\n",
       "    </tr>\n",
       "  </thead>\n",
       "  <tbody>\n",
       "    <tr>\n",
       "      <th>0</th>\n",
       "      <td>101.0</td>\n",
       "      <td>1.0</td>\n",
       "      <td>1.0</td>\n",
       "      <td>0.0</td>\n",
       "      <td>0.000000e+00</td>\n",
       "      <td>0.000000e+00</td>\n",
       "      <td>0.000000e+00</td>\n",
       "      <td>0.000000e+00</td>\n",
       "      <td>0.000000e+00</td>\n",
       "      <td>USA</td>\n",
       "    </tr>\n",
       "    <tr>\n",
       "      <th>1</th>\n",
       "      <td>101.0</td>\n",
       "      <td>1.0</td>\n",
       "      <td>2.0</td>\n",
       "      <td>0.0</td>\n",
       "      <td>0.000000e+00</td>\n",
       "      <td>0.000000e+00</td>\n",
       "      <td>0.000000e+00</td>\n",
       "      <td>0.000000e+00</td>\n",
       "      <td>0.000000e+00</td>\n",
       "      <td>USA</td>\n",
       "    </tr>\n",
       "    <tr>\n",
       "      <th>2</th>\n",
       "      <td>101.0</td>\n",
       "      <td>1.0</td>\n",
       "      <td>3.0</td>\n",
       "      <td>0.0</td>\n",
       "      <td>0.000000e+00</td>\n",
       "      <td>0.000000e+00</td>\n",
       "      <td>0.000000e+00</td>\n",
       "      <td>0.000000e+00</td>\n",
       "      <td>0.000000e+00</td>\n",
       "      <td>USA</td>\n",
       "    </tr>\n",
       "    <tr>\n",
       "      <th>3</th>\n",
       "      <td>101.0</td>\n",
       "      <td>1.0</td>\n",
       "      <td>4.0</td>\n",
       "      <td>0.0</td>\n",
       "      <td>0.000000e+00</td>\n",
       "      <td>0.000000e+00</td>\n",
       "      <td>0.000000e+00</td>\n",
       "      <td>0.000000e+00</td>\n",
       "      <td>0.000000e+00</td>\n",
       "      <td>USA</td>\n",
       "    </tr>\n",
       "    <tr>\n",
       "      <th>4</th>\n",
       "      <td>101.0</td>\n",
       "      <td>1.0</td>\n",
       "      <td>5.0</td>\n",
       "      <td>0.0</td>\n",
       "      <td>4.940656e-323</td>\n",
       "      <td>9.976594e-306</td>\n",
       "      <td>1.217616e-311</td>\n",
       "      <td>1.217661e-311</td>\n",
       "      <td>4.940656e-323</td>\n",
       "      <td>USA</td>\n",
       "    </tr>\n",
       "  </tbody>\n",
       "</table>\n",
       "</div>"
      ],
      "text/plain": [
       "   store_num  year  week  p1_sales       p2_sales       p1_price  \\\n",
       "0      101.0   1.0   1.0       0.0   0.000000e+00   0.000000e+00   \n",
       "1      101.0   1.0   2.0       0.0   0.000000e+00   0.000000e+00   \n",
       "2      101.0   1.0   3.0       0.0   0.000000e+00   0.000000e+00   \n",
       "3      101.0   1.0   4.0       0.0   0.000000e+00   0.000000e+00   \n",
       "4      101.0   1.0   5.0       0.0  4.940656e-323  9.976594e-306   \n",
       "\n",
       "        p2_price       p1_promo       p2_promo country  \n",
       "0   0.000000e+00   0.000000e+00   0.000000e+00     USA  \n",
       "1   0.000000e+00   0.000000e+00   0.000000e+00     USA  \n",
       "2   0.000000e+00   0.000000e+00   0.000000e+00     USA  \n",
       "3   0.000000e+00   0.000000e+00   0.000000e+00     USA  \n",
       "4  1.217616e-311  1.217661e-311  4.940656e-323     USA  "
      ]
     },
     "execution_count": 9,
     "metadata": {},
     "output_type": "execute_result"
    }
   ],
   "source": [
    "store_sales.head()"
   ]
  },
  {
   "cell_type": "code",
   "execution_count": 10,
   "metadata": {
    "colab": {},
    "colab_type": "code",
    "id": "FNp4-z9Pz0_X"
   },
   "outputs": [
    {
     "data": {
      "text/plain": [
       "store_num    float64\n",
       "year         float64\n",
       "week         float64\n",
       "p1_sales     float64\n",
       "p2_sales     float64\n",
       "p1_price     float64\n",
       "p2_price     float64\n",
       "p1_promo     float64\n",
       "p2_promo     float64\n",
       "country       object\n",
       "dtype: object"
      ]
     },
     "execution_count": 10,
     "metadata": {},
     "output_type": "execute_result"
    }
   ],
   "source": [
    "store_sales.dtypes"
   ]
  },
  {
   "cell_type": "code",
   "execution_count": null,
   "metadata": {
    "colab": {},
    "colab_type": "code",
    "id": "FmP1UDqiBsMh"
   },
   "outputs": [],
   "source": [
    "type(store_sales.country[0])"
   ]
  },
  {
   "cell_type": "code",
   "execution_count": null,
   "metadata": {
    "colab": {},
    "colab_type": "code",
    "id": "SQwPqrCLz08d"
   },
   "outputs": [],
   "source": [
    "store_sales.country = store_sales.country.astype(\n",
    "    pd.CategoricalDtype())\n",
    "store_sales.store_num = store_sales.store_num.astype(\n",
    "    pd.CategoricalDtype())\n",
    "print(store_sales.store_num.head())\n",
    "print(store_sales.country.head())"
   ]
  },
  {
   "cell_type": "code",
   "execution_count": null,
   "metadata": {
    "colab": {},
    "colab_type": "code",
    "id": "WUElntujB0ey"
   },
   "outputs": [],
   "source": [
    "store_sales.dtypes"
   ]
  },
  {
   "cell_type": "code",
   "execution_count": null,
   "metadata": {
    "colab": {},
    "colab_type": "code",
    "id": "1kxAn2s4B67a"
   },
   "outputs": [],
   "source": [
    "# Not shown\n",
    "store_sales.head(60) # 60 rows can be displayed without truncation;\n",
    "store_sales.tail(60) # make sure end looks OK too;\n",
    "store_sales.sample(60) # inspecting a random sample is also helpful;\n"
   ]
  },
  {
   "cell_type": "markdown",
   "metadata": {
    "colab_type": "text",
    "id": "iYYZjNsOMvJo"
   },
   "source": [
    "### 3.1.2 Store Data: Simulating Data Points"
   ]
  },
  {
   "cell_type": "code",
   "execution_count": null,
   "metadata": {
    "colab": {},
    "colab_type": "code",
    "id": "SQYt2m21EXva"
   },
   "outputs": [],
   "source": [
    "np.random.seed(37204)"
   ]
  },
  {
   "cell_type": "code",
   "execution_count": null,
   "metadata": {
    "colab": {},
    "colab_type": "code",
    "id": "IYKtSCinIQI0"
   },
   "outputs": [],
   "source": [
    "np.random.binomial(n=1, p=0.1, size=n_rows).shape"
   ]
  },
  {
   "cell_type": "code",
   "execution_count": null,
   "metadata": {
    "colab": {},
    "colab_type": "code",
    "id": "HNRGDSONIR3D"
   },
   "outputs": [],
   "source": [
    "store_sales.shape"
   ]
  },
  {
   "cell_type": "code",
   "execution_count": null,
   "metadata": {
    "colab": {},
    "colab_type": "code",
    "id": "hgm-Qu89M-hE"
   },
   "outputs": [],
   "source": [
    "# 10% promoted\n",
    "store_sales.p1_promo = np.random.binomial(n=1, p=0.1, size=n_rows)\n",
    "# 15% promoted\n",
    "store_sales.p2_promo = np.random.binomial(n=1, p=0.15, size=n_rows)\n",
    "store_sales.head(10) # how does it look so far?"
   ]
  },
  {
   "cell_type": "code",
   "execution_count": null,
   "metadata": {
    "colab": {},
    "colab_type": "code",
    "id": "dcUAmbknNPeU"
   },
   "outputs": [],
   "source": [
    "store_sales.p1_promo.value_counts()"
   ]
  },
  {
   "cell_type": "code",
   "execution_count": null,
   "metadata": {
    "colab": {},
    "colab_type": "code",
    "id": "PlYprIYaNJyc"
   },
   "outputs": [],
   "source": [
    "store_sales.p1_price = np.random.choice([2.19, 2.29, 2.49, 2.79, \n",
    "                                         2.99],\n",
    "                                     size=n_rows)\n",
    "store_sales.p2_price = np.random.choice([2.29, 2.49, 2.59, 2.99,\n",
    "                                         3.19],\n",
    "                                     size=n_rows)\n",
    "store_sales.sample(5) # now how does it look?"
   ]
  },
  {
   "cell_type": "code",
   "execution_count": null,
   "metadata": {
    "colab": {},
    "colab_type": "code",
    "id": "OCcfAlxwPOgm"
   },
   "outputs": [],
   "source": [
    "# sales data, using poisson (counts) distribution\n",
    "# np.random.poisson()\n",
    "# first, the default sales in the absence of promotion\n",
    "sales_p1 = np.random.poisson(lam=120, size=n_rows)\n",
    "sales_p2 = np.random.poisson(lam=100, size=n_rows)"
   ]
  },
  {
   "cell_type": "code",
   "execution_count": null,
   "metadata": {
    "colab": {},
    "colab_type": "code",
    "id": "PUnwPoVeSCCK"
   },
   "outputs": [],
   "source": [
    "# scale sales according to the ratio of log(price)\n",
    "log_p1_price = np.log(store_sales.p1_price)\n",
    "log_p2_price = np.log(store_sales.p2_price)\n",
    "\n",
    "sales_p1 = sales_p1 * log_p2_price/log_p1_price\n",
    "sales_p2 = sales_p2 * log_p1_price/log_p2_price"
   ]
  },
  {
   "cell_type": "code",
   "execution_count": null,
   "metadata": {
    "colab": {},
    "colab_type": "code",
    "id": "krOP_1zOSB_B"
   },
   "outputs": [],
   "source": [
    "# final sales get a 30% or 40% lift when promoted\n",
    "store_sales.p1_sales = np.floor(sales_p1 *\n",
    "                                (1 + store_sales.p1_promo * 0.3))\n",
    "store_sales.p2_sales = np.floor(sales_p2 *\n",
    "                                (1 + store_sales.p2_promo * 0.4))\n",
    "store_sales.sample(10)"
   ]
  },
  {
   "cell_type": "markdown",
   "metadata": {
    "colab_type": "text",
    "id": "5XBgPlBATOrj"
   },
   "source": [
    "## 3.2 Functions to Summarize a Variable"
   ]
  },
  {
   "cell_type": "markdown",
   "metadata": {
    "colab_type": "text",
    "id": "cQksLXVlzWXu"
   },
   "source": [
    "### 3.2.1 Language brief: groupby()"
   ]
  },
  {
   "cell_type": "code",
   "execution_count": null,
   "metadata": {
    "colab": {},
    "colab_type": "code",
    "id": "y_3ggAFHzVWu"
   },
   "outputs": [],
   "source": [
    "store_sales.groupby('store_num')"
   ]
  },
  {
   "cell_type": "code",
   "execution_count": null,
   "metadata": {
    "colab": {},
    "colab_type": "code",
    "id": "Fv5S_8K8zbgz"
   },
   "outputs": [],
   "source": [
    "store_sales.groupby('store_num').p1_sales.mean()"
   ]
  },
  {
   "cell_type": "code",
   "execution_count": null,
   "metadata": {
    "colab": {},
    "colab_type": "code",
    "id": "YdxPWud0zbWu"
   },
   "outputs": [],
   "source": [
    "store_sales.groupby(['store_num', 'year']).p1_sales.mean()"
   ]
  },
  {
   "cell_type": "code",
   "execution_count": null,
   "metadata": {
    "colab": {},
    "colab_type": "code",
    "id": "K5yOyhhNzbJ8"
   },
   "outputs": [],
   "source": [
    "store_sales.groupby(['store_num', 'year']).p1_sales.mean().unstack()"
   ]
  },
  {
   "cell_type": "code",
   "execution_count": null,
   "metadata": {
    "colab": {},
    "colab_type": "code",
    "id": "FnogDmQlziZ-"
   },
   "outputs": [],
   "source": [
    "p1_sales_by_country = store_sales.groupby(['country']).p1_sales.sum()\n",
    "p1_sales_by_country"
   ]
  },
  {
   "cell_type": "markdown",
   "metadata": {
    "colab_type": "text",
    "id": "TL4E-fjG2ARc"
   },
   "source": [
    "### 3.2.1 Discrete Variables"
   ]
  },
  {
   "cell_type": "code",
   "execution_count": null,
   "metadata": {
    "colab": {},
    "colab_type": "code",
    "id": "ZeW-k3bgYwB5"
   },
   "outputs": [],
   "source": [
    "store_sales.p1_price.value_counts()"
   ]
  },
  {
   "cell_type": "code",
   "execution_count": null,
   "metadata": {
    "colab": {},
    "colab_type": "code",
    "id": "rDLnesIoTRre"
   },
   "outputs": [],
   "source": [
    "p1_table_0 = store_sales.p1_price.value_counts()\n",
    "p1_table_0"
   ]
  },
  {
   "cell_type": "code",
   "execution_count": null,
   "metadata": {
    "colab": {},
    "colab_type": "code",
    "id": "UCz9xECnY1EJ"
   },
   "outputs": [],
   "source": [
    "type(p1_table_0)"
   ]
  },
  {
   "cell_type": "code",
   "execution_count": null,
   "metadata": {
    "colab": {},
    "colab_type": "code",
    "id": "FxBN43TGwbOU"
   },
   "outputs": [],
   "source": [
    "p1_table_0.plot.bar()"
   ]
  },
  {
   "cell_type": "code",
   "execution_count": null,
   "metadata": {
    "colab": {},
    "colab_type": "code",
    "id": "KNNDXdNGgywe"
   },
   "outputs": [],
   "source": [
    "pd.crosstab(store_sales.p1_promo, store_sales.p1_price)"
   ]
  },
  {
   "cell_type": "code",
   "execution_count": null,
   "metadata": {
    "colab": {},
    "colab_type": "code",
    "id": "xgBZQaMSvlMz"
   },
   "outputs": [],
   "source": [
    "store_sales.groupby('p1_promo').p1_price.value_counts().unstack()"
   ]
  },
  {
   "cell_type": "code",
   "execution_count": null,
   "metadata": {
    "colab": {},
    "colab_type": "code",
    "id": "m92znKHwkuDV"
   },
   "outputs": [],
   "source": [
    "store_sales.groupby(['p1_promo', 'country']).p1_price.mean().unstack()"
   ]
  },
  {
   "cell_type": "code",
   "execution_count": null,
   "metadata": {
    "colab": {},
    "colab_type": "code",
    "id": "w2mWcpgixHVM"
   },
   "outputs": [],
   "source": [
    "p1_table_1 = store_sales.groupby('p1_promo').p1_price.value_counts()\n",
    "p1_table_1 = p1_table_1.unstack()\n",
    "p1_table_1.div(p1_table_0)"
   ]
  },
  {
   "cell_type": "markdown",
   "metadata": {
    "colab_type": "text",
    "id": "N20UXjnj2MJW"
   },
   "source": [
    "### 3.2.2 Continuous Variables"
   ]
  },
  {
   "cell_type": "code",
   "execution_count": null,
   "metadata": {
    "colab": {},
    "colab_type": "code",
    "id": "3CI_EcLWxtY9"
   },
   "outputs": [],
   "source": [
    "store_sales.p2_sales.min()"
   ]
  },
  {
   "cell_type": "code",
   "execution_count": null,
   "metadata": {
    "colab": {},
    "colab_type": "code",
    "id": "GhQI3ehPzhFo"
   },
   "outputs": [],
   "source": [
    "store_sales.p1_sales.max()"
   ]
  },
  {
   "cell_type": "code",
   "execution_count": null,
   "metadata": {
    "colab": {},
    "colab_type": "code",
    "id": "VYDzTh5ozxb5"
   },
   "outputs": [],
   "source": [
    "store_sales.p1_promo.mean()"
   ]
  },
  {
   "cell_type": "code",
   "execution_count": null,
   "metadata": {
    "colab": {},
    "colab_type": "code",
    "id": "8kDL87vzz2S5"
   },
   "outputs": [],
   "source": [
    "store_sales.p2_sales.median()"
   ]
  },
  {
   "cell_type": "code",
   "execution_count": null,
   "metadata": {
    "colab": {},
    "colab_type": "code",
    "id": "idBfNMaIz7EK"
   },
   "outputs": [],
   "source": [
    "store_sales.p1_sales.var()"
   ]
  },
  {
   "cell_type": "code",
   "execution_count": null,
   "metadata": {
    "colab": {},
    "colab_type": "code",
    "id": "2IlR3mq4z9UB"
   },
   "outputs": [],
   "source": [
    "store_sales.p1_sales.std()"
   ]
  },
  {
   "cell_type": "code",
   "execution_count": null,
   "metadata": {
    "colab": {},
    "colab_type": "code",
    "id": "2TFqIcrOz_5R"
   },
   "outputs": [],
   "source": [
    "store_sales.p1_sales.mad()"
   ]
  },
  {
   "cell_type": "code",
   "execution_count": null,
   "metadata": {
    "colab": {},
    "colab_type": "code",
    "id": "HWjJHeys0Y5S"
   },
   "outputs": [],
   "source": [
    "store_sales.p1_sales.quantile(q=[0.25, 0.5, 0.75])"
   ]
  },
  {
   "cell_type": "code",
   "execution_count": null,
   "metadata": {
    "colab": {},
    "colab_type": "code",
    "id": "EcbMjjkT0qdr"
   },
   "outputs": [],
   "source": [
    "store_sales.p1_sales.quantile(q=[0.05, 0.95])"
   ]
  },
  {
   "cell_type": "code",
   "execution_count": null,
   "metadata": {
    "colab": {},
    "colab_type": "code",
    "id": "zJ75vPdh1jx9"
   },
   "outputs": [],
   "source": [
    "store_sales.p1_sales.quantile(q=np.arange(0, 1.1, 0.1))"
   ]
  },
  {
   "cell_type": "code",
   "execution_count": null,
   "metadata": {
    "colab": {},
    "colab_type": "code",
    "id": "C9hsy-RtyAhE"
   },
   "outputs": [],
   "source": [
    "def iqr(x):\n",
    "  '''Return the interquartile range of the input numpy array'''\n",
    "  return x.quantile(0.75) - x.quantile(0.25)\n",
    "iqr(store_sales.p1_sales)"
   ]
  },
  {
   "cell_type": "code",
   "execution_count": null,
   "metadata": {
    "colab": {},
    "colab_type": "code",
    "id": "lra7czEIIMkH"
   },
   "outputs": [],
   "source": [
    "pd.DataFrame([[store_sales.p1_sales.median(),\n",
    "               store_sales.p2_sales.median()],\n",
    "              [iqr(store_sales.p1_sales), iqr(store_sales.p2_sales)]],\n",
    "             index=['Median sales', 'IQR'],\n",
    "             columns=['p1_sales', 'p2_sales'])"
   ]
  },
  {
   "cell_type": "markdown",
   "metadata": {
    "colab_type": "text",
    "id": "4Hd4exSJ68tu"
   },
   "source": [
    "## 3.3 Summarizing Data Frames"
   ]
  },
  {
   "cell_type": "code",
   "execution_count": null,
   "metadata": {
    "colab": {},
    "colab_type": "code",
    "id": "Fix4ui1t4Xzz"
   },
   "outputs": [],
   "source": [
    "store_sales.describe()"
   ]
  },
  {
   "cell_type": "code",
   "execution_count": null,
   "metadata": {
    "colab": {},
    "colab_type": "code",
    "id": "f2rak70qDu_P"
   },
   "outputs": [],
   "source": [
    "store_sales.p1_price.describe()"
   ]
  },
  {
   "cell_type": "markdown",
   "metadata": {
    "colab_type": "text",
    "id": "iOLa7P5QEXyP"
   },
   "source": [
    "### 3.3.4 apply()"
   ]
  },
  {
   "cell_type": "code",
   "execution_count": null,
   "metadata": {
    "colab": {},
    "colab_type": "code",
    "id": "4-Q_xJ0pE4ep"
   },
   "outputs": [],
   "source": [
    "store_sales.iloc[:, 3:9].mean()"
   ]
  },
  {
   "cell_type": "code",
   "execution_count": null,
   "metadata": {
    "colab": {},
    "colab_type": "code",
    "id": "z3xeabyDFSBj"
   },
   "outputs": [],
   "source": [
    "store_sales.iloc[:, 3:9].mean(axis=1).head()"
   ]
  },
  {
   "cell_type": "code",
   "execution_count": null,
   "metadata": {
    "colab": {},
    "colab_type": "code",
    "id": "n_iHIAmAEora"
   },
   "outputs": [],
   "source": [
    "store_sales.iloc[:, 3:9].iqr()"
   ]
  },
  {
   "cell_type": "code",
   "execution_count": null,
   "metadata": {
    "colab": {},
    "colab_type": "code",
    "id": "0_hYfr6GE1gx"
   },
   "outputs": [],
   "source": [
    "store_sales.iloc[:, 3:9].apply(iqr)"
   ]
  },
  {
   "cell_type": "code",
   "execution_count": null,
   "metadata": {
    "colab": {},
    "colab_type": "code",
    "id": "0r0gd7wcFs0U"
   },
   "outputs": [],
   "source": [
    "store_sales.iloc[:, 3:9].apply(iqr, axis=1).head()"
   ]
  },
  {
   "cell_type": "code",
   "execution_count": null,
   "metadata": {
    "colab": {},
    "colab_type": "code",
    "id": "Hg_prDvrGgVv"
   },
   "outputs": [],
   "source": [
    "store_sales.iloc[:, 3:9].apply(lambda x: x.mean() - x.median())"
   ]
  },
  {
   "cell_type": "code",
   "execution_count": null,
   "metadata": {
    "colab": {},
    "colab_type": "code",
    "id": "Bby6ffy5L1MN"
   },
   "outputs": [],
   "source": [
    "store_sales.p1_sales.apply(lambda x: 'high' if x > 130 else 'low')[:5]"
   ]
  },
  {
   "cell_type": "code",
   "execution_count": null,
   "metadata": {
    "colab": {},
    "colab_type": "code",
    "id": "x7clCRzGG6R2"
   },
   "outputs": [],
   "source": [
    "pd.DataFrame([store_sales[['p1_sales', 'p2_sales']].median(),\n",
    "              store_sales[['p1_sales', 'p2_sales']].apply(iqr)],\n",
    "             index=['Median sales', 'IQR'])"
   ]
  },
  {
   "cell_type": "markdown",
   "metadata": {
    "colab_type": "text",
    "id": "nM2dV1VAJFtS"
   },
   "source": [
    "## 3.4 Single Variable Visualization"
   ]
  },
  {
   "cell_type": "markdown",
   "metadata": {
    "colab_type": "text",
    "id": "hqF8VDAgUgAd"
   },
   "source": [
    "### 3.4.1 Histograms"
   ]
  },
  {
   "cell_type": "code",
   "execution_count": null,
   "metadata": {
    "colab": {},
    "colab_type": "code",
    "id": "6RejrUJORcLp"
   },
   "outputs": [],
   "source": [
    "store_sales.p1_sales.hist()"
   ]
  },
  {
   "cell_type": "code",
   "execution_count": null,
   "metadata": {
    "colab": {},
    "colab_type": "code",
    "id": "q36qbFdxEL87"
   },
   "outputs": [],
   "source": [
    "import matplotlib.pyplot as plt\n",
    "store_sales.p1_sales.hist()\n",
    "plt.title('Product 1 weekly sales frequencies, All stores')\n",
    "plt.xlabel('Product 1 sales (units)')\n",
    "plt.ylabel('Count')"
   ]
  },
  {
   "cell_type": "code",
   "execution_count": null,
   "metadata": {
    "colab": {},
    "colab_type": "code",
    "id": "I_WPO3YOuALt"
   },
   "outputs": [],
   "source": [
    "plt.rcParams.update({'font.size': 12})"
   ]
  },
  {
   "cell_type": "code",
   "execution_count": null,
   "metadata": {
    "colab": {},
    "colab_type": "code",
    "id": "L9LDrKZjoJUU"
   },
   "outputs": [],
   "source": [
    "store_sales.p1_sales.hist(bins=30,\n",
    "                          edgecolor='k',\n",
    "                          facecolor='lightblue')\n",
    "plt.title('Product 1 weekly sales frequencies, All stores')\n",
    "plt.xlabel('Product 1 sales (units)')\n",
    "plt.ylabel('Count')\n",
    "plt.grid(False)\n",
    "plt.box(False)"
   ]
  },
  {
   "cell_type": "code",
   "execution_count": null,
   "metadata": {
    "colab": {},
    "colab_type": "code",
    "id": "tkFBPVTsRGPy"
   },
   "outputs": [],
   "source": [
    "store_sales.p1_sales.hist(bins=30,\n",
    "                          edgecolor='k',\n",
    "                          facecolor='lightblue',\n",
    "                          density=True)\n",
    "plt.title('Product 1 weekly sales frequencies, All stores')\n",
    "plt.xlabel('Product 1 sales (units)')\n",
    "plt.ylabel('Relative frequency')\n",
    "plt.xticks(range(60, 300, 20))\n",
    "plt.grid(False)\n",
    "plt.box(False)"
   ]
  },
  {
   "cell_type": "code",
   "execution_count": null,
   "metadata": {
    "colab": {},
    "colab_type": "code",
    "id": "rebdhuPGRizp"
   },
   "outputs": [],
   "source": [
    "store_sales.p1_sales.hist(bins=30,\n",
    "                          edgecolor='k',\n",
    "                          facecolor='lightblue',\n",
    "                          density=True)\n",
    "store_sales.p1_sales.plot.density(color='red')\n",
    "plt.title('Product 1 weekly sales frequencies, All stores')\n",
    "plt.xlabel('Product 1 sales (units)')\n",
    "plt.ylabel('Relative frequency')\n",
    "plt.xticks(range(60, 300, 20))\n",
    "plt.xlim((60, 290))\n",
    "plt.box(False)"
   ]
  },
  {
   "cell_type": "markdown",
   "metadata": {
    "colab_type": "text",
    "id": "bbW65MHiUjR9"
   },
   "source": [
    "### Box plots"
   ]
  },
  {
   "cell_type": "code",
   "execution_count": null,
   "metadata": {
    "colab": {},
    "colab_type": "code",
    "id": "Urfr3bf4ToA2"
   },
   "outputs": [],
   "source": [
    "p = store_sales.p2_sales.plot.box(vert=False, sym='k.')\n",
    "plt.title('Weekly sales of P2, All stores')\n",
    "plt.xlabel('Weekly sales')\n",
    "p.set_facecolor('w')"
   ]
  },
  {
   "cell_type": "code",
   "execution_count": null,
   "metadata": {
    "colab": {},
    "colab_type": "code",
    "id": "T1vWGW0Ypu0x"
   },
   "outputs": [],
   "source": [
    "store_sales.boxplot(column='p2_sales', by='store_num', vert=False,\n",
    "                    sym='k.')\n",
    "plt.suptitle('')\n",
    "plt.title('Weekly sales of p2 by store')\n",
    "plt.xlabel('Weekly unit sales')\n",
    "plt.ylabel('Store')\n",
    "plt.box(False)"
   ]
  },
  {
   "cell_type": "code",
   "execution_count": null,
   "metadata": {
    "colab": {},
    "colab_type": "code",
    "id": "MGVCSnypuNjx"
   },
   "outputs": [],
   "source": [
    "store_sales.boxplot(column='p2_sales', by='p2_promo', vert=False,\n",
    "                    sym='k.')\n",
    "plt.suptitle('')\n",
    "plt.title('Weekly sales of p2 with and without promotion')\n",
    "plt.xlabel('Weekly unit sales')\n",
    "plt.ylabel('P2 promo in store?')\n",
    "plt.yticks([1, 2], ['No', 'Yes'])\n",
    "plt.box(False)"
   ]
  },
  {
   "cell_type": "markdown",
   "metadata": {
    "colab_type": "text",
    "id": "gveLwTskxMsF"
   },
   "source": [
    "### 3.4.3 QQ Plot to check normality"
   ]
  },
  {
   "cell_type": "code",
   "execution_count": null,
   "metadata": {
    "colab": {},
    "colab_type": "code",
    "id": "-_8546qBvD-2"
   },
   "outputs": [],
   "source": [
    "from scipy import stats\n",
    "plt.figure(figsize=(7,7))\n",
    "stats.probplot(store_sales.p1_sales, dist='norm', plot=plt)"
   ]
  },
  {
   "cell_type": "code",
   "execution_count": null,
   "metadata": {
    "colab": {},
    "colab_type": "code",
    "id": "Vm0PTa6zvD8K"
   },
   "outputs": [],
   "source": [
    "plt.figure(figsize=(7,7))\n",
    "stats.probplot(np.log(store_sales.p1_sales), dist='norm', plot=plt)"
   ]
  },
  {
   "cell_type": "markdown",
   "metadata": {
    "colab_type": "text",
    "id": "uzicq5A4yAIG"
   },
   "source": [
    "### 3.4.4 Cumulative distribution"
   ]
  },
  {
   "cell_type": "code",
   "execution_count": null,
   "metadata": {
    "colab": {},
    "colab_type": "code",
    "id": "T6RTFIxD382k"
   },
   "outputs": [],
   "source": [
    "from statsmodels.distributions.empirical_distribution import ECDF\n",
    "e = ECDF(store_sales.p1_sales)\n",
    "plt.plot(e.x, e.y)\n",
    "plt.title('Cumulative distribution of p1 weekly sales')\n",
    "plt.ylabel('Cumulative proportion')\n",
    "plt.plot([60, 270], [0.9, 0.9], 'k--', alpha=0.5)\n",
    "plt.plot([store_sales.p1_sales.quantile(.9),\n",
    "          store_sales.p1_sales.quantile(.9)],\n",
    "         [0, 1], 'k--', alpha=0.5)\n",
    "plt.box(False)"
   ]
  },
  {
   "cell_type": "code",
   "execution_count": null,
   "metadata": {
    "colab": {},
    "colab_type": "code",
    "id": "UH0wmRddq8XL"
   },
   "outputs": [],
   "source": [
    "ecdf_x = store_sales.p1_sales.sort_values()\n",
    "ecdf_y = np.arange(0, 1, 1/len(store_sales.p1_sales))\n",
    "plt.subplot(2,1,2)\n",
    "plt.plot(ecdf_x, ecdf_y)\n",
    "plt.xlabel('P1 weekly sales, all stores')\n",
    "plt.ylabel('Cumulative proportion')\n",
    "plt.plot([60, 270], [0.9, 0.9], 'k--', alpha=0.5)\n",
    "plt.plot([store_sales.p1_sales.quantile(.9),\n",
    "          store_sales.p1_sales.quantile(.9)],\n",
    "         [0, 1], 'k--', alpha=0.5)\n",
    "plt.box(False)"
   ]
  },
  {
   "cell_type": "markdown",
   "metadata": {
    "colab_type": "text",
    "id": "hQF0UZAe68Y3"
   },
   "source": [
    "### 3.4.6 Maps"
   ]
  },
  {
   "cell_type": "code",
   "execution_count": null,
   "metadata": {
    "colab": {},
    "colab_type": "code",
    "id": "6ThFDEHIec4p"
   },
   "outputs": [],
   "source": [
    "!apt-get -qq install python-cartopy python3-cartopy\n",
    "!pip uninstall -y shapely\n",
    "!pip install shapely --no-binary shapely"
   ]
  },
  {
   "cell_type": "code",
   "execution_count": 1,
   "metadata": {
    "colab": {},
    "colab_type": "code",
    "id": "S5BKJ1RtDvZW"
   },
   "outputs": [
    {
     "ename": "ModuleNotFoundError",
     "evalue": "No module named 'cartopy'",
     "output_type": "error",
     "traceback": [
      "\u001b[1;31m---------------------------------------------------------------------------\u001b[0m",
      "\u001b[1;31mModuleNotFoundError\u001b[0m                       Traceback (most recent call last)",
      "\u001b[1;32m~\\AppData\\Local\\Temp/ipykernel_2676/1254559901.py\u001b[0m in \u001b[0;36m<module>\u001b[1;34m\u001b[0m\n\u001b[1;32m----> 1\u001b[1;33m \u001b[1;32mfrom\u001b[0m \u001b[0mcartopy\u001b[0m\u001b[1;33m.\u001b[0m\u001b[0mio\u001b[0m \u001b[1;32mimport\u001b[0m \u001b[0mshapereader\u001b[0m\u001b[1;33m\u001b[0m\u001b[1;33m\u001b[0m\u001b[0m\n\u001b[0m\u001b[0;32m      2\u001b[0m \u001b[1;32mfrom\u001b[0m \u001b[0mcartopy\u001b[0m \u001b[1;32mimport\u001b[0m \u001b[0mcrs\u001b[0m\u001b[1;33m\u001b[0m\u001b[1;33m\u001b[0m\u001b[0m\n\u001b[0;32m      3\u001b[0m \u001b[1;33m\u001b[0m\u001b[0m\n\u001b[0;32m      4\u001b[0m \u001b[0mplt\u001b[0m\u001b[1;33m.\u001b[0m\u001b[0mfigure\u001b[0m\u001b[1;33m(\u001b[0m\u001b[0mfigsize\u001b[0m\u001b[1;33m=\u001b[0m\u001b[1;33m(\u001b[0m\u001b[1;36m16\u001b[0m\u001b[1;33m,\u001b[0m\u001b[1;36m6\u001b[0m\u001b[1;33m)\u001b[0m\u001b[1;33m)\u001b[0m\u001b[1;33m\u001b[0m\u001b[1;33m\u001b[0m\u001b[0m\n\u001b[0;32m      5\u001b[0m \u001b[0max\u001b[0m \u001b[1;33m=\u001b[0m \u001b[0mplt\u001b[0m\u001b[1;33m.\u001b[0m\u001b[0maxes\u001b[0m\u001b[1;33m(\u001b[0m\u001b[0mprojection\u001b[0m\u001b[1;33m=\u001b[0m\u001b[0mcrs\u001b[0m\u001b[1;33m.\u001b[0m\u001b[0mPlateCarree\u001b[0m\u001b[1;33m(\u001b[0m\u001b[1;33m)\u001b[0m\u001b[1;33m)\u001b[0m\u001b[1;33m\u001b[0m\u001b[1;33m\u001b[0m\u001b[0m\n",
      "\u001b[1;31mModuleNotFoundError\u001b[0m: No module named 'cartopy'"
     ]
    }
   ],
   "source": [
    "from cartopy.io import shapereader\n",
    "from cartopy import crs\n",
    "\n",
    "plt.figure(figsize=(16,6))\n",
    "ax = plt.axes(projection=crs.PlateCarree())\n",
    "\n",
    "shpfile = shapereader.natural_earth(resolution='110m',\n",
    "                                  category='cultural',\n",
    "                                  name='admin_0_countries')\n",
    "reader = shapereader.Reader(shpfile)\n",
    "countries = reader.records()\n",
    "max_sales = p1_sales_by_country.max()\n",
    "for country in countries:\n",
    "  country_name = country.attributes['ADM0_A3']\n",
    "  if country_name in p1_sales_by_country:\n",
    "    ax.add_geometries(country.geometry, crs.PlateCarree(),\n",
    "      facecolor=plt.cm.Greens(p1_sales_by_country[country_name]\n",
    "                                 /max_sales),\n",
    "      edgecolor='k')\n",
    "  else:\n",
    "    ax.add_geometries(country.geometry, crs.PlateCarree(),\n",
    "      facecolor='w',\n",
    "      edgecolor='k')"
   ]
  },
  {
   "cell_type": "code",
   "execution_count": null,
   "metadata": {
    "colab": {},
    "colab_type": "code",
    "id": "bT74v_UhG95n"
   },
   "outputs": [],
   "source": []
  }
 ],
 "metadata": {
  "colab": {
   "collapsed_sections": [],
   "name": "Chapter 3 - Describing Data",
   "provenance": []
  },
  "kernelspec": {
   "display_name": "Python 3 (ipykernel)",
   "language": "python",
   "name": "python3"
  },
  "language_info": {
   "codemirror_mode": {
    "name": "ipython",
    "version": 3
   },
   "file_extension": ".py",
   "mimetype": "text/x-python",
   "name": "python",
   "nbconvert_exporter": "python",
   "pygments_lexer": "ipython3",
   "version": "3.9.7"
  }
 },
 "nbformat": 4,
 "nbformat_minor": 1
}
